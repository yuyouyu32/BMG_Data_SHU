{
 "cells": [
  {
   "cell_type": "code",
   "execution_count": 3,
   "metadata": {},
   "outputs": [],
   "source": [
    "import pandas as pd\n",
    "\n",
    "df = pd.read_csv('./NewCriterion_T1.csv')\n",
    "df.to_excel('./NewCriterion_T1.xlsx', index=False)"
   ]
  },
  {
   "cell_type": "code",
   "execution_count": 5,
   "metadata": {},
   "outputs": [],
   "source": [
    "df = pd.read_csv('./NewCriterion_T2.csv')\n",
    "df['Alloy composition (at.\\%) [ref.]'] = df['Alloy composition (at.\\%) [ref.]'].str.replace(r' \\[\\d+\\]', '', regex=True).str.strip()\n",
    "df.to_excel('./NewCriterion_T2.xlsx', index=False)"
   ]
  },
  {
   "cell_type": "code",
   "execution_count": 7,
   "metadata": {},
   "outputs": [],
   "source": [
    "df = pd.read_csv('./NewCriterion_T4.csv')\n",
    "df['Composition (at.%) [ref.]'] = df['Composition (at.%) [ref.]'].str.replace(r' \\[\\d+\\]', '', regex=True).str.strip()\n",
    "df.to_excel('./NewCriterion_T4.xlsx', index=False)"
   ]
  }
 ],
 "metadata": {
  "kernelspec": {
   "display_name": "base",
   "language": "python",
   "name": "python3"
  },
  "language_info": {
   "codemirror_mode": {
    "name": "ipython",
    "version": 3
   },
   "file_extension": ".py",
   "mimetype": "text/x-python",
   "name": "python",
   "nbconvert_exporter": "python",
   "pygments_lexer": "ipython3",
   "version": "3.11.5"
  }
 },
 "nbformat": 4,
 "nbformat_minor": 2
}
