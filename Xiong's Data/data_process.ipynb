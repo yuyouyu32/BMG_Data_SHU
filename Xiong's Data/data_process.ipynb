{
 "cells": [
  {
   "cell_type": "code",
   "execution_count": 5,
   "metadata": {},
   "outputs": [],
   "source": [
    "import pandas as pd\n",
    "\n",
    "data = pd.read_csv('HEA.csv')"
   ]
  },
  {
   "cell_type": "code",
   "execution_count": 3,
   "metadata": {},
   "outputs": [],
   "source": [
    "def _generate_BMGs_string(s):\n",
    "        \"\"\"\n",
    "        Generate a BMGs string based on the vector 's' and the columns of the Excel file.\n",
    "        \n",
    "        Returns:\n",
    "            str: BMGs string\n",
    "        \"\"\"\n",
    "        \n",
    "        columns = ['Ag','Al','Au','B','Be','C','Ca','Ce','Co','Cr','Cu','Dy','Er','Fe','Ga','Gd','Ge','Hf','La','Li','Lu','Mg','Mn','Mo','Nb','Nd','Ni','Pd','Pr','Rh','Ru','Sc','Si','Sm','Sn','Sr','Ta','Tb','Ti','Tm','V','W','Y','Yb','Zn','Zr']\n",
    "        assert len(s) == len(columns), \"The length of the vector 's' must match the number of columns in the Excel file.\"\n",
    "\n",
    "        # Create a dictionary from relevant columns and vector 's'\n",
    "        col_s_dict = {col: s[i] for i, col in enumerate(columns)}\n",
    "        \n",
    "        # Sort columns by the value in 's' and create the BMGs string\n",
    "        sorted_cols = sorted(col_s_dict, key=lambda c: col_s_dict[c], reverse=True)\n",
    "        bmg_string = ''.join([f\"{col}{round(col_s_dict[col], 2)}\" for col in sorted_cols if col_s_dict[col] != 0])\n",
    "        return bmg_string"
   ]
  },
  {
   "cell_type": "code",
   "execution_count": 6,
   "metadata": {},
   "outputs": [],
   "source": [
    "def filter_group(group):\n",
    "    ac_rows = group[group['AAAAAAProcessing Condition'] == 'AC']\n",
    "    if not ac_rows.empty:\n",
    "        return ac_rows\n",
    "    else:\n",
    "        print(f\"Warning: No 'AC' condition found in group {group['AAAAlloys'].iloc[0]}， with group len {len(group['AAAAlloys'])}, retaining the first row.\")\n",
    "        return group.iloc[[0]]"
   ]
  },
  {
   "cell_type": "code",
   "execution_count": 7,
   "metadata": {},
   "outputs": [
    {
     "name": "stdout",
     "output_type": "stream",
     "text": [
      "Warning: No 'AC' condition found in group Al0.25NbTaTiZr， with group len 1, retaining the first row.\n",
      "Warning: No 'AC' condition found in group Al0.2Co1.5CrFeNi1.5Ti， with group len 1, retaining the first row.\n",
      "Warning: No 'AC' condition found in group Al0.2Co1.5CrFeNi1.5Ti0.5， with group len 1, retaining the first row.\n",
      "Warning: No 'AC' condition found in group Al0.2CoCrCu0.2FeNi2， with group len 2, retaining the first row.\n",
      "Warning: No 'AC' condition found in group Al0.3CoCr2FeNi， with group len 1, retaining the first row.\n",
      "Warning: No 'AC' condition found in group Al0.3CoCrCu0.5FeNi， with group len 1, retaining the first row.\n",
      "Warning: No 'AC' condition found in group Al0.3NbTa0.8Ti1.4V0.2Zr1.3， with group len 1, retaining the first row.\n",
      "Warning: No 'AC' condition found in group Al0.3NbTaTi1.4Zr1.3， with group len 1, retaining the first row.\n",
      "Warning: No 'AC' condition found in group Al0.4CoCrFeMnNiV， with group len 1, retaining the first row.\n",
      "Warning: No 'AC' condition found in group Al0.4Hf0.6NbTaTiZr， with group len 1, retaining the first row.\n",
      "Warning: No 'AC' condition found in group Al0.5CrFeNiTiV， with group len 1, retaining the first row.\n",
      "Warning: No 'AC' condition found in group Al0.5Mo0.5NbTa0.5TiZr， with group len 1, retaining the first row.\n",
      "Warning: No 'AC' condition found in group Al0.5NbTa0.8Ti1.5V0.2Zr， with group len 1, retaining the first row.\n",
      "Warning: No 'AC' condition found in group Al0.6CoCrFeNiTi0.4， with group len 2, retaining the first row.\n",
      "Warning: No 'AC' condition found in group Al0.6CoFeNiTi0.4， with group len 2, retaining the first row.\n",
      "Warning: No 'AC' condition found in group Al0.7Co0.3CrFeNi， with group len 2, retaining the first row.\n",
      "Warning: No 'AC' condition found in group Al21.4Co23.5Cu7.8Fe25.1Ni22.2， with group len 1, retaining the first row.\n",
      "Warning: No 'AC' condition found in group Al28.5Cr27.3Fe24.9Ni19.3， with group len 1, retaining the first row.\n",
      "Warning: No 'AC' condition found in group AlCo0.5Cr0.5Fe0.5MnNiV， with group len 1, retaining the first row.\n",
      "Warning: No 'AC' condition found in group AlCo0.5Cr0.5Fe0.5MnNiV0.5， with group len 1, retaining the first row.\n",
      "Warning: No 'AC' condition found in group AlCo1.5Cr2Fe1.5Mn2NiV， with group len 1, retaining the first row.\n",
      "Warning: No 'AC' condition found in group AlCoCuNiTiZn， with group len 2, retaining the first row.\n",
      "Warning: No 'AC' condition found in group AlCoFeNiSm0.05TiV0.95Zr， with group len 1, retaining the first row.\n",
      "Warning: No 'AC' condition found in group AlCoFeNiSm0.1TiV0.9， with group len 1, retaining the first row.\n",
      "Warning: No 'AC' condition found in group AlCoFeNiSm0.1V0.9， with group len 1, retaining the first row.\n",
      "Warning: No 'AC' condition found in group AlCr0.5NbTiV， with group len 1, retaining the first row.\n",
      "Warning: No 'AC' condition found in group AlCr1.5NbTiV， with group len 1, retaining the first row.\n",
      "Warning: No 'AC' condition found in group AlCrNbTiV， with group len 1, retaining the first row.\n",
      "Warning: No 'AC' condition found in group AlLiMg0.5ScTi1.5， with group len 2, retaining the first row.\n",
      "Warning: No 'AC' condition found in group AlMo0.5NbTa0.5TiZr， with group len 2, retaining the first row.\n",
      "Warning: No 'AC' condition found in group AlMo0.5NbTa0.5TiZr0.5， with group len 1, retaining the first row.\n",
      "Warning: No 'AC' condition found in group AlMoNbTi， with group len 1, retaining the first row.\n",
      "Warning: No 'AC' condition found in group AlNb1.5Ta0.5Ti1.5Zr0.5， with group len 1, retaining the first row.\n",
      "Warning: No 'AC' condition found in group AlNbTa0.5TiZr0.5， with group len 1, retaining the first row.\n",
      "Warning: No 'AC' condition found in group AlNbTiVZr， with group len 1, retaining the first row.\n",
      "Warning: No 'AC' condition found in group AlNbTiVZr0.1， with group len 1, retaining the first row.\n",
      "Warning: No 'AC' condition found in group AlNbTiVZr0.25， with group len 1, retaining the first row.\n",
      "Warning: No 'AC' condition found in group AlNbTiVZr0.5， with group len 1, retaining the first row.\n",
      "Warning: No 'AC' condition found in group AlNbTiVZr1.5， with group len 1, retaining the first row.\n",
      "Warning: No 'AC' condition found in group Co0.5CrFeMn1.5Ni， with group len 1, retaining the first row.\n",
      "Warning: No 'AC' condition found in group Co0.5CrFeNiTi0.5， with group len 2, retaining the first row.\n",
      "Warning: No 'AC' condition found in group Co1.4CrFeMnNi， with group len 3, retaining the first row.\n",
      "Warning: No 'AC' condition found in group Co1.5Cr0.5FeMn0.5Ni， with group len 1, retaining the first row.\n",
      "Warning: No 'AC' condition found in group Co1.5CrFeNi1.5Ti， with group len 1, retaining the first row.\n",
      "Warning: No 'AC' condition found in group Co25.3Cr25.5Fe25.3Ni23.9， with group len 1, retaining the first row.\n",
      "Warning: No 'AC' condition found in group Co26.5Cu23.2Fe24.9Ni25.4， with group len 1, retaining the first row.\n",
      "Warning: No 'AC' condition found in group Co32.9Fe34Ni33.1， with group len 1, retaining the first row.\n",
      "Warning: No 'AC' condition found in group CoCr0.75FeMn0.75Ni， with group len 1, retaining the first row.\n",
      "Warning: No 'AC' condition found in group CoCr1.25FeMn0.25Ni， with group len 1, retaining the first row.\n",
      "Warning: No 'AC' condition found in group CoCr1.3FeMnNi0.7， with group len 4, retaining the first row.\n",
      "Warning: No 'AC' condition found in group CoCrCuFeMn， with group len 1, retaining the first row.\n",
      "Warning: No 'AC' condition found in group CoCrCuNi， with group len 1, retaining the first row.\n",
      "Warning: No 'AC' condition found in group CoCrFe0.5Mn0.5Ni1.5， with group len 1, retaining the first row.\n",
      "Warning: No 'AC' condition found in group CoCrMnNiV， with group len 1, retaining the first row.\n",
      "Warning: No 'AC' condition found in group CoCuHfTiZr， with group len 1, retaining the first row.\n",
      "Warning: No 'AC' condition found in group CoFeMnMoNi， with group len 1, retaining the first row.\n",
      "Warning: No 'AC' condition found in group CoFeMnNiV， with group len 1, retaining the first row.\n",
      "Warning: No 'AC' condition found in group Cr37Fe28.9Ni34.1， with group len 1, retaining the first row.\n",
      "Warning: No 'AC' condition found in group CrCuMnNi， with group len 1, retaining the first row.\n",
      "Warning: No 'AC' condition found in group CrFeMnNiTi， with group len 1, retaining the first row.\n",
      "Warning: No 'AC' condition found in group CrNbTiVZr， with group len 1, retaining the first row.\n",
      "Warning: No 'AC' condition found in group CrNbTiZr， with group len 1, retaining the first row.\n",
      "Warning: No 'AC' condition found in group CrTaTi0.17VW， with group len 1, retaining the first row.\n",
      "Warning: No 'AC' condition found in group CrTaTi0.30VW， with group len 1, retaining the first row.\n",
      "Warning: No 'AC' condition found in group CrTaVW， with group len 1, retaining the first row.\n",
      "Warning: No 'AC' condition found in group Hf5.5NbTaTi7Zr5.5， with group len 1, retaining the first row.\n",
      "Warning: No 'AC' condition found in group MoPdRhRu， with group len 1, retaining the first row.\n",
      "Warning: No 'AC' condition found in group MoRhRu， with group len 1, retaining the first row.\n",
      "Warning: No 'AC' condition found in group NbTiV2Zr， with group len 1, retaining the first row.\n"
     ]
    }
   ],
   "source": [
    "# data用AAAAlloys做groupby，然后每一组中仅保留AAAAAAProcessing Condition列值为AC的行，如果没有则保留第一行并打印警告\n",
    "data = data.groupby('AAAAlloys', group_keys=False).apply(filter_group)"
   ]
  },
  {
   "cell_type": "code",
   "execution_count": 8,
   "metadata": {},
   "outputs": [],
   "source": [
    "# data = data[data['AAAAAAProcessing Condition'] == 'AC']\n",
    "chem_columns = ['Ag','Al','Au','B','Be','C','Ca','Ce','Co','Cr','Cu','Dy','Er','Fe','Ga','Gd','Ge','Hf','La','Li','Lu','Mg','Mn','Mo','Nb','Nd','Ni','Pd','Pr','Rh','Ru','Sc','Si','Sm','Sn','Sr','Ta','Tb','Ti','Tm','V','W','Y','Yb','Zn','Zr']\n",
    "# chem_columns * 100\n",
    "data[chem_columns] = data[chem_columns] * 100\n",
    "data[chem_columns] = data[chem_columns].fillna(0)\n",
    "# 把chem_columns列的值转换为BMGs string\n",
    "data['GFA'] = data[chem_columns].apply(_generate_BMGs_string, axis=1)\n",
    "\n",
    "data['sum'] = data[chem_columns].sum(axis=1)\n",
    "for i in range(len(data)):\n",
    "    if abs(data['sum'].iloc[i] - 100) > 0.1:\n",
    "        print(f'{i}行sum不为1,值为{data[\"sum\"].iloc[i]}')\n",
    "# drop REF,AAA-System, sum, AAAAAAProcessing Condition,PHASE,Phase,H    ev/atom,Hf  kJ/mol,Hmix,Smix/R,Delta,HV,compressive stregth列\n",
    "data = data.drop(columns=['REF','AAA-System','sum','AAAAAAProcessing Condition','PHASE','Phase','H    ev/atom','Hf  kJ/mol','Hmix','Smix/R','Delta' , 'HV','compressive stregth'])\n",
    "# chem_columns列fill nan with 0\n",
    "data[chem_columns] = data[chem_columns].fillna(0)\n",
    "# 检查除了GFA，AAAAlloys列之外，其他的列是否都是数字和nan\n",
    "for col in data.columns:\n",
    "    if col not in ['GFA','AAAAlloys']:\n",
    "        for i in range(len(data)):\n",
    "            if not pd.isnull(data[col].iloc[i]):\n",
    "                try:\n",
    "                    float(data[col].iloc[i])\n",
    "                except:\n",
    "                    print(f'{i}行{col}列不是数字')\n"
   ]
  },
  {
   "cell_type": "code",
   "execution_count": 9,
   "metadata": {},
   "outputs": [],
   "source": [
    "# data 丢弃Modulus (GPa)\tyield(MPa)\tΕ(%)都为nan的行\n",
    "data = data.dropna(subset=['Modulus (GPa)','yield(MPa)','Ε(%)'], how='all')\n",
    "data.to_excel('HEA_GFA.xlsx', index=False)"
   ]
  }
 ],
 "metadata": {
  "kernelspec": {
   "display_name": "base",
   "language": "python",
   "name": "python3"
  },
  "language_info": {
   "codemirror_mode": {
    "name": "ipython",
    "version": 3
   },
   "file_extension": ".py",
   "mimetype": "text/x-python",
   "name": "python",
   "nbconvert_exporter": "python",
   "pygments_lexer": "ipython3",
   "version": "3.1.-1"
  }
 },
 "nbformat": 4,
 "nbformat_minor": 2
}
