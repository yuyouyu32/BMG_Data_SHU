{
 "cells": [
  {
   "cell_type": "code",
   "execution_count": 42,
   "metadata": {},
   "outputs": [],
   "source": [
    "import pandas as pd\n",
    "\n",
    "data = pd.read_csv('HEA.csv')"
   ]
  },
  {
   "cell_type": "code",
   "execution_count": 43,
   "metadata": {},
   "outputs": [],
   "source": [
    "def _generate_BMGs_string(s):\n",
    "        \"\"\"\n",
    "        Generate a BMGs string based on the vector 's' and the columns of the Excel file.\n",
    "        \n",
    "        Returns:\n",
    "            str: BMGs string\n",
    "        \"\"\"\n",
    "        \n",
    "        columns = ['Ag','Al','Au','B','Be','C','Ca','Ce','Co','Cr','Cu','Dy','Er','Fe','Ga','Gd','Ge','Hf','La','Li','Lu','Mg','Mn','Mo','Nb','Nd','Ni','Pd','Pr','Rh','Ru','Sc','Si','Sm','Sn','Sr','Ta','Tb','Ti','Tm','V','W','Y','Yb','Zn','Zr']\n",
    "        assert len(s) == len(columns), \"The length of the vector 's' must match the number of columns in the Excel file.\"\n",
    "\n",
    "        # Create a dictionary from relevant columns and vector 's'\n",
    "        col_s_dict = {col: s[i] for i, col in enumerate(columns)}\n",
    "        \n",
    "        # Sort columns by the value in 's' and create the BMGs string\n",
    "        sorted_cols = sorted(col_s_dict, key=lambda c: col_s_dict[c], reverse=True)\n",
    "        bmg_string = ''.join([f\"{col}{round(col_s_dict[col], 2)}\" for col in sorted_cols if col_s_dict[col] != 0])\n",
    "        \n",
    "        return bmg_string"
   ]
  },
  {
   "cell_type": "code",
   "execution_count": 44,
   "metadata": {},
   "outputs": [],
   "source": [
    "# 仅保留AAAAAAProcessing Condition列值为AC的行\n",
    "# data = data[data['AAAAAAProcessing Condition'] == 'AC']\n",
    "chem_columns = ['Ag','Al','Au','B','Be','C','Ca','Ce','Co','Cr','Cu','Dy','Er','Fe','Ga','Gd','Ge','Hf','La','Li','Lu','Mg','Mn','Mo','Nb','Nd','Ni','Pd','Pr','Rh','Ru','Sc','Si','Sm','Sn','Sr','Ta','Tb','Ti','Tm','V','W','Y','Yb','Zn','Zr']\n",
    "# chem_columns * 100\n",
    "data[chem_columns] = data[chem_columns] * 100\n",
    "# 把chem_columns列的值转换为BMGs string\n",
    "data['GFA'] = data[chem_columns].apply(_generate_BMGs_string, axis=1)\n",
    "\n",
    "data['sum'] = data[chem_columns].sum(axis=1)\n",
    "for i in range(len(data)):\n",
    "    if abs(data['sum'].iloc[i] - 100) > 0.1:\n",
    "        print(f'{i}行sum不为1,值为{data[\"sum\"].iloc[i]}')\n",
    "# drop REF,AAA-System, sum, AAAAAAProcessing Condition,PHASE,Phase,H    ev/atom,Hf  kJ/mol,Hmix,Smix/R,Delta,HV,compressive stregth列\n",
    "data = data.drop(columns=['REF','AAA-System','sum','AAAAAAProcessing Condition','PHASE','Phase','H    ev/atom','Hf  kJ/mol','Hmix','Smix/R','Delta' , 'HV','compressive stregth'])\n",
    "# chem_columns列fill nan with 0\n",
    "data[chem_columns] = data[chem_columns].fillna(0)\n",
    "# 检查除了GFA，AAAAlloys列之外，其他的列是否都是数字和nan\n",
    "for col in data.columns:\n",
    "    if col not in ['GFA','AAAAlloys']:\n",
    "        for i in range(len(data)):\n",
    "            if not pd.isnull(data[col].iloc[i]):\n",
    "                try:\n",
    "                    float(data[col].iloc[i])\n",
    "                except:\n",
    "                    print(f'{i}行{col}列不是数字')\n"
   ]
  },
  {
   "cell_type": "code",
   "execution_count": 40,
   "metadata": {},
   "outputs": [],
   "source": [
    "# data 丢弃Modulus (GPa)\tyield(MPa)\tΕ(%)都为nan的行\n",
    "data = data.dropna(subset=['Modulus (GPa)','yield(MPa)','Ε(%)'], how='all')\n",
    "data.to_excel('HEA_GFA.xlsx', index=False)"
   ]
  }
 ],
 "metadata": {
  "kernelspec": {
   "display_name": "base",
   "language": "python",
   "name": "python3"
  },
  "language_info": {
   "codemirror_mode": {
    "name": "ipython",
    "version": 3
   },
   "file_extension": ".py",
   "mimetype": "text/x-python",
   "name": "python",
   "nbconvert_exporter": "python",
   "pygments_lexer": "ipython3",
   "version": "3.11.5"
  }
 },
 "nbformat": 4,
 "nbformat_minor": 2
}
